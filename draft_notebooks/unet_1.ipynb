{
 "cells": [
  {
   "cell_type": "code",
   "execution_count": 1,
   "id": "6a0d004f",
   "metadata": {
    "scrolled": true
   },
   "outputs": [],
   "source": [
    "# !nvidia-smi"
   ]
  },
  {
   "cell_type": "code",
   "execution_count": 2,
   "id": "5650bf7d",
   "metadata": {},
   "outputs": [],
   "source": [
    "import numpy as np"
   ]
  },
  {
   "cell_type": "code",
   "execution_count": 3,
   "id": "00edcc73",
   "metadata": {
    "scrolled": true
   },
   "outputs": [],
   "source": [
    "import json\n",
    "with open(\"../data/class_list.json\") as f:\n",
    "    class_colors_mapping_hex = json.load(f)"
   ]
  },
  {
   "cell_type": "code",
   "execution_count": 4,
   "id": "9927c110",
   "metadata": {},
   "outputs": [],
   "source": [
    "from PIL import ImageColor\n",
    "class_colors_mapping_rgb = {}\n",
    "for color, label in class_colors_mapping_hex.items():\n",
    "    class_colors_mapping_rgb[label] = ImageColor.getcolor(color, \"RGB\")"
   ]
  },
  {
   "cell_type": "code",
   "execution_count": 5,
   "id": "fc5aedfd",
   "metadata": {},
   "outputs": [],
   "source": [
    "num_classes = len(class_colors_mapping_rgb.keys())"
   ]
  },
  {
   "cell_type": "code",
   "execution_count": 6,
   "id": "607ce375",
   "metadata": {},
   "outputs": [
    {
     "data": {
      "text/plain": [
       "55"
      ]
     },
     "execution_count": 6,
     "metadata": {},
     "output_type": "execute_result"
    }
   ],
   "source": [
    "num_classes"
   ]
  },
  {
   "cell_type": "code",
   "execution_count": 7,
   "id": "1aeb2b2b",
   "metadata": {},
   "outputs": [
    {
     "name": "stderr",
     "output_type": "stream",
     "text": [
      "2023-04-23 12:41:36.869032: I tensorflow/core/platform/cpu_feature_guard.cc:193] This TensorFlow binary is optimized with oneAPI Deep Neural Network Library (oneDNN) to use the following CPU instructions in performance-critical operations:  AVX2 FMA\n",
      "To enable them in other operations, rebuild TensorFlow with the appropriate compiler flags.\n"
     ]
    }
   ],
   "source": [
    "import tensorflow as tf\n",
    "\n",
    "# Define the U-Net model architecture\n",
    "def unet_model(input_shape, num_classes):\n",
    "    \"\"\"model: https://lmb.informatik.uni-freiburg.de/people/ronneber/u-net/\"\"\"\n",
    "    \n",
    "    inputs = tf.keras.layers.Input(shape=input_shape)\n",
    "    print(inputs.shape)\n",
    "\n",
    "    inputs_padded = tf.keras.layers.ZeroPadding2D(((0,105), (0,16)))( inputs )\n",
    "    print(inputs_padded.shape)\n",
    "\n",
    "    \n",
    "    # Encoder\n",
    "    conv1 = tf.keras.layers.Conv2D(64, 3, activation='relu', padding='same', kernel_initializer = 'he_normal')(inputs_padded)\n",
    "    conv1 = tf.keras.layers.BatchNormalization()(conv1)\n",
    "    conv1 = tf.keras.layers.Conv2D(64, 3, activation='relu', padding='same', kernel_initializer = 'he_normal')(conv1)\n",
    "    conv1 = tf.keras.layers.BatchNormalization()(conv1)\n",
    "    pool1 = tf.keras.layers.MaxPooling2D(pool_size=(2, 2))(conv1)\n",
    "    print(pool1.shape)\n",
    "    \n",
    "    conv2 = tf.keras.layers.Conv2D(128, 3, activation='relu', padding='same', kernel_initializer = 'he_normal')(pool1)\n",
    "    conv2 = tf.keras.layers.BatchNormalization()(conv2)\n",
    "    conv2 = tf.keras.layers.Conv2D(128, 3, activation='relu', padding='same', kernel_initializer = 'he_normal')(conv2)\n",
    "    conv2 = tf.keras.layers.BatchNormalization()(conv2)\n",
    "    pool2 = tf.keras.layers.MaxPooling2D(pool_size=(2, 2))(conv2)\n",
    "    print(pool2.shape)\n",
    "\n",
    "    \n",
    "    conv3 = tf.keras.layers.Conv2D(256, 3, activation='relu', padding='same', kernel_initializer = 'he_normal')(pool2)\n",
    "    conv3 = tf.keras.layers.BatchNormalization()(conv3)\n",
    "    conv3 = tf.keras.layers.Conv2D(256, 3, activation='relu', padding='same', kernel_initializer = 'he_normal')(conv3)\n",
    "    conv3 = tf.keras.layers.BatchNormalization()(conv3)\n",
    "    pool3 = tf.keras.layers.MaxPooling2D(pool_size=(2, 2))(conv3)\n",
    "    print(pool3.shape)\n",
    "    \n",
    "    conv4 = tf.keras.layers.Conv2D(512, 3, activation='relu', padding='same', kernel_initializer = 'he_normal')(pool3)\n",
    "    conv4 = tf.keras.layers.BatchNormalization()(conv4)\n",
    "    conv4 = tf.keras.layers.Conv2D(512, 3, activation='relu', padding='same', kernel_initializer = 'he_normal')(conv4)\n",
    "    conv4 = tf.keras.layers.BatchNormalization()(conv4)\n",
    "    pool4 = tf.keras.layers.MaxPooling2D(pool_size=(2, 2))(conv4)\n",
    "    print(pool4.shape)\n",
    "\n",
    "\n",
    "    # lowest layer\n",
    "    conv5 = tf.keras.layers.Conv2D(1024, 3, activation='relu', padding='same', kernel_initializer = 'he_normal')(pool4)\n",
    "    conv5 = tf.keras.layers.BatchNormalization()(conv5)\n",
    "    conv5 = tf.keras.layers.Conv2D(1024, 3, activation='relu', padding='same', kernel_initializer = 'he_normal')(conv5)\n",
    "    conv5 = tf.keras.layers.BatchNormalization()(conv5)\n",
    "    drop5 = tf.keras.layers.Dropout(0.5)(conv5)\n",
    "\n",
    "\n",
    "    # Decoder\n",
    "    up1 = tf.keras.layers.Conv2DTranspose(512, 2, strides=(2, 2), padding='same', kernel_initializer = 'he_normal')(drop5)\n",
    "    merge1 = tf.keras.layers.concatenate([conv4, up1], axis=3)\n",
    "    conv6 = tf.keras.layers.Conv2D(512, 3, activation='relu', padding='same', kernel_initializer = 'he_normal')(merge1)\n",
    "    conv6 = tf.keras.layers.BatchNormalization()(conv6)\n",
    "    conv6 = tf.keras.layers.Conv2D(512, 3, activation='relu', padding='same', kernel_initializer = 'he_normal')(conv6)\n",
    "    conv6 = tf.keras.layers.BatchNormalization()(conv6)\n",
    "    print(\"conv6\", conv6.shape)\n",
    "\n",
    "    \n",
    "    up2 = tf.keras.layers.Conv2DTranspose(256, 2, strides=(2, 2), padding='same', kernel_initializer = 'he_normal')(conv6)\n",
    "    merge2 = tf.keras.layers.concatenate([conv3, up2], axis=3)\n",
    "    conv7 = tf.keras.layers.Conv2D(256, 3, activation='relu', padding='same', kernel_initializer = 'he_normal')(merge2)\n",
    "    conv7 = tf.keras.layers.BatchNormalization()(conv7)\n",
    "    conv7 = tf.keras.layers.Conv2D(256, 3, activation='relu', padding='same', kernel_initializer = 'he_normal')(conv7)\n",
    "    conv7 = tf.keras.layers.BatchNormalization()(conv7)\n",
    "    print(\"conv7\",conv7.shape)\n",
    "\n",
    "    \n",
    "    up3 = tf.keras.layers.Conv2DTranspose(128, 2, strides=(2, 2), padding='same', kernel_initializer = 'he_normal')(conv7)\n",
    "    merge3 = tf.keras.layers.concatenate([conv2, up3], axis=3)\n",
    "    conv8 = tf.keras.layers.Conv2D(128, 3, activation='relu', padding='same', kernel_initializer = 'he_normal')(merge3)\n",
    "    conv8 = tf.keras.layers.BatchNormalization()(conv8)\n",
    "    conv8 = tf.keras.layers.Conv2D(128, 3, activation='relu', padding='same', kernel_initializer = 'he_normal')(conv8)\n",
    "    conv8 = tf.keras.layers.BatchNormalization()(conv8)\n",
    "\n",
    "    print(\"conv8\",conv8.shape)\n",
    "\n",
    "    \n",
    "    up4 = tf.keras.layers.Conv2DTranspose(64, 2, strides=(2, 2), padding='same', kernel_initializer = 'he_normal')(conv8)\n",
    "    merge4 = tf.keras.layers.concatenate([conv1, up4], axis=3)\n",
    "    \n",
    "    conv9 = tf.keras.layers.Conv2D(64, 3, activation='relu', padding='same', kernel_initializer = 'he_normal')(merge4)\n",
    "    conv9 = tf.keras.layers.BatchNormalization()(conv9)\n",
    "    conv9 = tf.keras.layers.Conv2D(32, 3, activation='relu', padding='same', kernel_initializer = 'he_normal')(conv9)\n",
    "    conv9 = tf.keras.layers.BatchNormalization()(conv9)\n",
    "    conv9 = tf.keras.layers.Conv2D(16, 3, activation='relu', padding='same', kernel_initializer = 'he_normal')(conv9)\n",
    "    conv9 = tf.keras.layers.BatchNormalization()(conv9)\n",
    "\n",
    "    print(\"conv9\",conv9.shape)\n",
    "\n",
    "\n",
    "    # Output\n",
    "    outputs = tf.keras.layers.Conv2D(num_classes, 1, activation='sigmoid')(conv9)\n",
    "    print(outputs.shape)\n",
    "\n",
    "    outputs_unpadded = tf.keras.layers.Cropping2D(cropping=((0, 105), (0, 16)))(outputs) # todo check if legit\n",
    "    print(outputs_unpadded.shape)\n",
    "\n",
    "    \n",
    "    # Create the model\n",
    "    model = tf.keras.Model(inputs=inputs, outputs=outputs_unpadded)\n",
    "    \n",
    "    return model"
   ]
  },
  {
   "cell_type": "code",
   "execution_count": 8,
   "id": "d2a33d5e",
   "metadata": {
    "scrolled": false
   },
   "outputs": [
    {
     "name": "stdout",
     "output_type": "stream",
     "text": [
      "(None, 151, 240, 3)\n",
      "(None, 256, 256, 3)\n",
      "(None, 128, 128, 64)\n",
      "(None, 64, 64, 128)\n"
     ]
    },
    {
     "name": "stderr",
     "output_type": "stream",
     "text": [
      "2023-04-23 12:41:42.900693: I tensorflow/core/platform/cpu_feature_guard.cc:193] This TensorFlow binary is optimized with oneAPI Deep Neural Network Library (oneDNN) to use the following CPU instructions in performance-critical operations:  AVX2 FMA\n",
      "To enable them in other operations, rebuild TensorFlow with the appropriate compiler flags.\n"
     ]
    },
    {
     "name": "stdout",
     "output_type": "stream",
     "text": [
      "(None, 32, 32, 256)\n",
      "(None, 16, 16, 512)\n",
      "conv6 (None, 32, 32, 512)\n",
      "conv7 (None, 64, 64, 256)\n",
      "conv8 (None, 128, 128, 128)\n",
      "conv9 (None, 256, 256, 16)\n",
      "(None, 256, 256, 55)\n",
      "(None, 151, 240, 55)\n"
     ]
    }
   ],
   "source": [
    "my_model = unet_model(input_shape=(151, 240, 3), num_classes=num_classes)"
   ]
  },
  {
   "cell_type": "code",
   "execution_count": 9,
   "id": "fbe2d339",
   "metadata": {
    "scrolled": true
   },
   "outputs": [
    {
     "name": "stdout",
     "output_type": "stream",
     "text": [
      "Model: \"model\"\n",
      "__________________________________________________________________________________________________\n",
      " Layer (type)                   Output Shape         Param #     Connected to                     \n",
      "==================================================================================================\n",
      " input_1 (InputLayer)           [(None, 151, 240, 3  0           []                               \n",
      "                                )]                                                                \n",
      "                                                                                                  \n",
      " zero_padding2d (ZeroPadding2D)  (None, 256, 256, 3)  0          ['input_1[0][0]']                \n",
      "                                                                                                  \n",
      " conv2d (Conv2D)                (None, 256, 256, 64  1792        ['zero_padding2d[0][0]']         \n",
      "                                )                                                                 \n",
      "                                                                                                  \n",
      " batch_normalization (BatchNorm  (None, 256, 256, 64  256        ['conv2d[0][0]']                 \n",
      " alization)                     )                                                                 \n",
      "                                                                                                  \n",
      " conv2d_1 (Conv2D)              (None, 256, 256, 64  36928       ['batch_normalization[0][0]']    \n",
      "                                )                                                                 \n",
      "                                                                                                  \n",
      " batch_normalization_1 (BatchNo  (None, 256, 256, 64  256        ['conv2d_1[0][0]']               \n",
      " rmalization)                   )                                                                 \n",
      "                                                                                                  \n",
      " max_pooling2d (MaxPooling2D)   (None, 128, 128, 64  0           ['batch_normalization_1[0][0]']  \n",
      "                                )                                                                 \n",
      "                                                                                                  \n",
      " conv2d_2 (Conv2D)              (None, 128, 128, 12  73856       ['max_pooling2d[0][0]']          \n",
      "                                8)                                                                \n",
      "                                                                                                  \n",
      " batch_normalization_2 (BatchNo  (None, 128, 128, 12  512        ['conv2d_2[0][0]']               \n",
      " rmalization)                   8)                                                                \n",
      "                                                                                                  \n",
      " conv2d_3 (Conv2D)              (None, 128, 128, 12  147584      ['batch_normalization_2[0][0]']  \n",
      "                                8)                                                                \n",
      "                                                                                                  \n",
      " batch_normalization_3 (BatchNo  (None, 128, 128, 12  512        ['conv2d_3[0][0]']               \n",
      " rmalization)                   8)                                                                \n",
      "                                                                                                  \n",
      " max_pooling2d_1 (MaxPooling2D)  (None, 64, 64, 128)  0          ['batch_normalization_3[0][0]']  \n",
      "                                                                                                  \n",
      " conv2d_4 (Conv2D)              (None, 64, 64, 256)  295168      ['max_pooling2d_1[0][0]']        \n",
      "                                                                                                  \n",
      " batch_normalization_4 (BatchNo  (None, 64, 64, 256)  1024       ['conv2d_4[0][0]']               \n",
      " rmalization)                                                                                     \n",
      "                                                                                                  \n",
      " conv2d_5 (Conv2D)              (None, 64, 64, 256)  590080      ['batch_normalization_4[0][0]']  \n",
      "                                                                                                  \n",
      " batch_normalization_5 (BatchNo  (None, 64, 64, 256)  1024       ['conv2d_5[0][0]']               \n",
      " rmalization)                                                                                     \n",
      "                                                                                                  \n",
      " max_pooling2d_2 (MaxPooling2D)  (None, 32, 32, 256)  0          ['batch_normalization_5[0][0]']  \n",
      "                                                                                                  \n",
      " conv2d_6 (Conv2D)              (None, 32, 32, 512)  1180160     ['max_pooling2d_2[0][0]']        \n",
      "                                                                                                  \n",
      " batch_normalization_6 (BatchNo  (None, 32, 32, 512)  2048       ['conv2d_6[0][0]']               \n",
      " rmalization)                                                                                     \n",
      "                                                                                                  \n",
      " conv2d_7 (Conv2D)              (None, 32, 32, 512)  2359808     ['batch_normalization_6[0][0]']  \n",
      "                                                                                                  \n",
      " batch_normalization_7 (BatchNo  (None, 32, 32, 512)  2048       ['conv2d_7[0][0]']               \n",
      " rmalization)                                                                                     \n",
      "                                                                                                  \n",
      " max_pooling2d_3 (MaxPooling2D)  (None, 16, 16, 512)  0          ['batch_normalization_7[0][0]']  \n",
      "                                                                                                  \n",
      " conv2d_8 (Conv2D)              (None, 16, 16, 1024  4719616     ['max_pooling2d_3[0][0]']        \n",
      "                                )                                                                 \n",
      "                                                                                                  \n",
      " batch_normalization_8 (BatchNo  (None, 16, 16, 1024  4096       ['conv2d_8[0][0]']               \n",
      " rmalization)                   )                                                                 \n",
      "                                                                                                  \n",
      " conv2d_9 (Conv2D)              (None, 16, 16, 1024  9438208     ['batch_normalization_8[0][0]']  \n",
      "                                )                                                                 \n",
      "                                                                                                  \n",
      " batch_normalization_9 (BatchNo  (None, 16, 16, 1024  4096       ['conv2d_9[0][0]']               \n",
      " rmalization)                   )                                                                 \n",
      "                                                                                                  \n",
      " dropout (Dropout)              (None, 16, 16, 1024  0           ['batch_normalization_9[0][0]']  \n",
      "                                )                                                                 \n",
      "                                                                                                  \n",
      " conv2d_transpose (Conv2DTransp  (None, 32, 32, 512)  2097664    ['dropout[0][0]']                \n",
      " ose)                                                                                             \n",
      "                                                                                                  \n",
      " concatenate (Concatenate)      (None, 32, 32, 1024  0           ['batch_normalization_7[0][0]',  \n",
      "                                )                                 'conv2d_transpose[0][0]']       \n",
      "                                                                                                  \n",
      " conv2d_10 (Conv2D)             (None, 32, 32, 512)  4719104     ['concatenate[0][0]']            \n"
     ]
    },
    {
     "name": "stdout",
     "output_type": "stream",
     "text": [
      "                                                                                                  \n",
      " batch_normalization_10 (BatchN  (None, 32, 32, 512)  2048       ['conv2d_10[0][0]']              \n",
      " ormalization)                                                                                    \n",
      "                                                                                                  \n",
      " conv2d_11 (Conv2D)             (None, 32, 32, 512)  2359808     ['batch_normalization_10[0][0]'] \n",
      "                                                                                                  \n",
      " batch_normalization_11 (BatchN  (None, 32, 32, 512)  2048       ['conv2d_11[0][0]']              \n",
      " ormalization)                                                                                    \n",
      "                                                                                                  \n",
      " conv2d_transpose_1 (Conv2DTran  (None, 64, 64, 256)  524544     ['batch_normalization_11[0][0]'] \n",
      " spose)                                                                                           \n",
      "                                                                                                  \n",
      " concatenate_1 (Concatenate)    (None, 64, 64, 512)  0           ['batch_normalization_5[0][0]',  \n",
      "                                                                  'conv2d_transpose_1[0][0]']     \n",
      "                                                                                                  \n",
      " conv2d_12 (Conv2D)             (None, 64, 64, 256)  1179904     ['concatenate_1[0][0]']          \n",
      "                                                                                                  \n",
      " batch_normalization_12 (BatchN  (None, 64, 64, 256)  1024       ['conv2d_12[0][0]']              \n",
      " ormalization)                                                                                    \n",
      "                                                                                                  \n",
      " conv2d_13 (Conv2D)             (None, 64, 64, 256)  590080      ['batch_normalization_12[0][0]'] \n",
      "                                                                                                  \n",
      " batch_normalization_13 (BatchN  (None, 64, 64, 256)  1024       ['conv2d_13[0][0]']              \n",
      " ormalization)                                                                                    \n",
      "                                                                                                  \n",
      " conv2d_transpose_2 (Conv2DTran  (None, 128, 128, 12  131200     ['batch_normalization_13[0][0]'] \n",
      " spose)                         8)                                                                \n",
      "                                                                                                  \n",
      " concatenate_2 (Concatenate)    (None, 128, 128, 25  0           ['batch_normalization_3[0][0]',  \n",
      "                                6)                                'conv2d_transpose_2[0][0]']     \n",
      "                                                                                                  \n",
      " conv2d_14 (Conv2D)             (None, 128, 128, 12  295040      ['concatenate_2[0][0]']          \n",
      "                                8)                                                                \n",
      "                                                                                                  \n",
      " batch_normalization_14 (BatchN  (None, 128, 128, 12  512        ['conv2d_14[0][0]']              \n",
      " ormalization)                  8)                                                                \n",
      "                                                                                                  \n",
      " conv2d_15 (Conv2D)             (None, 128, 128, 12  147584      ['batch_normalization_14[0][0]'] \n",
      "                                8)                                                                \n",
      "                                                                                                  \n",
      " batch_normalization_15 (BatchN  (None, 128, 128, 12  512        ['conv2d_15[0][0]']              \n",
      " ormalization)                  8)                                                                \n",
      "                                                                                                  \n",
      " conv2d_transpose_3 (Conv2DTran  (None, 256, 256, 64  32832      ['batch_normalization_15[0][0]'] \n",
      " spose)                         )                                                                 \n",
      "                                                                                                  \n",
      " concatenate_3 (Concatenate)    (None, 256, 256, 12  0           ['batch_normalization_1[0][0]',  \n",
      "                                8)                                'conv2d_transpose_3[0][0]']     \n",
      "                                                                                                  \n",
      " conv2d_16 (Conv2D)             (None, 256, 256, 64  73792       ['concatenate_3[0][0]']          \n",
      "                                )                                                                 \n",
      "                                                                                                  \n",
      " batch_normalization_16 (BatchN  (None, 256, 256, 64  256        ['conv2d_16[0][0]']              \n",
      " ormalization)                  )                                                                 \n",
      "                                                                                                  \n",
      " conv2d_17 (Conv2D)             (None, 256, 256, 32  18464       ['batch_normalization_16[0][0]'] \n",
      "                                )                                                                 \n",
      "                                                                                                  \n",
      " batch_normalization_17 (BatchN  (None, 256, 256, 32  128        ['conv2d_17[0][0]']              \n",
      " ormalization)                  )                                                                 \n",
      "                                                                                                  \n",
      " conv2d_18 (Conv2D)             (None, 256, 256, 16  4624        ['batch_normalization_17[0][0]'] \n",
      "                                )                                                                 \n",
      "                                                                                                  \n",
      " batch_normalization_18 (BatchN  (None, 256, 256, 16  64         ['conv2d_18[0][0]']              \n",
      " ormalization)                  )                                                                 \n",
      "                                                                                                  \n",
      " conv2d_19 (Conv2D)             (None, 256, 256, 55  935         ['batch_normalization_18[0][0]'] \n",
      "                                )                                                                 \n",
      "                                                                                                  \n",
      " cropping2d (Cropping2D)        (None, 151, 240, 55  0           ['conv2d_19[0][0]']              \n",
      "                                )                                                                 \n",
      "                                                                                                  \n",
      "==================================================================================================\n",
      "Total params: 31,042,263\n",
      "Trainable params: 31,030,519\n",
      "Non-trainable params: 11,744\n",
      "__________________________________________________________________________________________________\n"
     ]
    }
   ],
   "source": [
    "my_model.summary()"
   ]
  },
  {
   "cell_type": "code",
   "execution_count": 10,
   "id": "350af625",
   "metadata": {},
   "outputs": [],
   "source": [
    "import os\n",
    "import tarfile\n",
    "from PIL import Image\n",
    "import numpy\n",
    "\n",
    "def read_data(tar_file: str):\n",
    "    \"\"\"\n",
    "    Reads all images from a single scene in the A2D2 dataset.\n",
    "\n",
    "    Parameters:\n",
    "    scene_dir (str): Path to the directory containing the tar file for the scene.\n",
    "\n",
    "    Returns:\n",
    "    A list of PIL Image objects, each corresponding to an image in the scene.\n",
    "    \"\"\"\n",
    "\n",
    "    # Open the tar file and read the images\n",
    "    images = []\n",
    "    with tarfile.open(tar_file) as tf:\n",
    "        for member in tf.getmembers():\n",
    "            if member.isfile() and member.name.endswith('.png'):\n",
    "                f = tf.extractfile(member)\n",
    "                image = np.array(Image.open(f))\n",
    "                images.append(image)\n",
    "\n",
    "    return images"
   ]
  },
  {
   "cell_type": "code",
   "execution_count": 11,
   "id": "894684db",
   "metadata": {},
   "outputs": [],
   "source": [
    "image = numpy.array(Image.open(\"../data/sample_data/20180807145028_camera_frontcenter_000006882.png\").resize((240, 151)))\n",
    "label = numpy.array(Image.open(\"../data/sample_data/20180807145028_label_frontcenter_000006882.png\").resize((240, 151)))"
   ]
  },
  {
   "cell_type": "code",
   "execution_count": 12,
   "id": "47eba1c9",
   "metadata": {},
   "outputs": [],
   "source": [
    "def imshow(img):\n",
    "    import cv2\n",
    "    import IPython\n",
    "    _,ret = cv2.imencode('.jpg', img) \n",
    "    i = IPython.display.Image(data=ret)\n",
    "    IPython.display.display(i)"
   ]
  },
  {
   "cell_type": "code",
   "execution_count": 13,
   "id": "7405be09",
   "metadata": {
    "scrolled": true
   },
   "outputs": [
    {
     "data": {
      "image/png": "[encoded data removed]",
      "text/plain": [
       "<IPython.core.display.Image object>"
      ]
     },
     "metadata": {},
     "output_type": "display_data"
    }
   ],
   "source": [
    "imshow(image)"
   ]
  },
  {
   "cell_type": "code",
   "execution_count": 14,
   "id": "cbe97da2",
   "metadata": {},
   "outputs": [
    {
     "data": {
      "image/png": "[encoded data removed]",
      "text/plain": [
       "<IPython.core.display.Image object>"
      ]
     },
     "metadata": {},
     "output_type": "display_data"
    }
   ],
   "source": [
    "imshow(label) # true_multilabel"
   ]
  },
  {
   "cell_type": "code",
   "execution_count": 15,
   "id": "39f54b8d",
   "metadata": {},
   "outputs": [],
   "source": [
    "my_model.compile(optimizer=\"rmsprop\", loss=\"categorical_crossentropy\", metrics=['accuracy'])"
   ]
  },
  {
   "cell_type": "code",
   "execution_count": 16,
   "id": "cbedea63",
   "metadata": {},
   "outputs": [],
   "source": [
    "mask = np.zeros(label.shape, dtype=np.uint8)\n",
    "for idx, color in enumerate(class_colors_mapping_rgb.values()):\n",
    "    mask[np.all(label == color, axis=-1)] = idx+1\n",
    "mask = mask[:, :, 0]\n",
    "masks = np.expand_dims(mask, axis=0)\n",
    "masks = np.expand_dims(masks, axis=3)"
   ]
  },
  {
   "cell_type": "code",
   "execution_count": 17,
   "id": "5c68c8dc",
   "metadata": {},
   "outputs": [
    {
     "data": {
      "text/plain": [
       "(1, 151, 240, 55)"
      ]
     },
     "execution_count": 17,
     "metadata": {},
     "output_type": "execute_result"
    }
   ],
   "source": [
    "from tensorflow.keras.utils import to_categorical\n",
    "cat = to_categorical(masks, num_classes=num_classes)\n",
    "cat.shape"
   ]
  },
  {
   "cell_type": "code",
   "execution_count": 18,
   "id": "5ce768ee",
   "metadata": {
    "scrolled": true
   },
   "outputs": [
    {
     "name": "stdout",
     "output_type": "stream",
     "text": [
      "Epoch 1/15\n",
      "1/1 - 8s - loss: 4.0416 - accuracy: 0.0254 - 8s/epoch - 8s/step\n",
      "Epoch 2/15\n",
      "1/1 - 3s - loss: 3.7523 - accuracy: 0.2390 - 3s/epoch - 3s/step\n",
      "Epoch 3/15\n",
      "1/1 - 3s - loss: 3.6338 - accuracy: 0.4054 - 3s/epoch - 3s/step\n",
      "Epoch 4/15\n",
      "1/1 - 2s - loss: 3.5678 - accuracy: 0.5000 - 2s/epoch - 2s/step\n",
      "Epoch 5/15\n",
      "1/1 - 2s - loss: 3.5346 - accuracy: 0.5316 - 2s/epoch - 2s/step\n",
      "Epoch 6/15\n",
      "1/1 - 2s - loss: 3.5015 - accuracy: 0.5689 - 2s/epoch - 2s/step\n",
      "Epoch 7/15\n",
      "1/1 - 3s - loss: 3.4782 - accuracy: 0.6014 - 3s/epoch - 3s/step\n",
      "Epoch 8/15\n",
      "1/1 - 2s - loss: 3.4606 - accuracy: 0.6077 - 2s/epoch - 2s/step\n",
      "Epoch 9/15\n",
      "1/1 - 2s - loss: 3.4482 - accuracy: 0.6372 - 2s/epoch - 2s/step\n",
      "Epoch 10/15\n",
      "1/1 - 2s - loss: 3.4156 - accuracy: 0.6781 - 2s/epoch - 2s/step\n",
      "Epoch 11/15\n",
      "1/1 - 2s - loss: 3.4025 - accuracy: 0.6876 - 2s/epoch - 2s/step\n",
      "Epoch 12/15\n",
      "1/1 - 2s - loss: 3.3955 - accuracy: 0.6920 - 2s/epoch - 2s/step\n",
      "Epoch 13/15\n",
      "1/1 - 2s - loss: 3.3864 - accuracy: 0.6795 - 2s/epoch - 2s/step\n",
      "Epoch 14/15\n",
      "1/1 - 2s - loss: 3.3671 - accuracy: 0.7275 - 2s/epoch - 2s/step\n",
      "Epoch 15/15\n",
      "1/1 - 2s - loss: 3.3480 - accuracy: 0.7389 - 2s/epoch - 2s/step\n"
     ]
    },
    {
     "data": {
      "text/plain": [
       "<keras.callbacks.History at 0x7f9e5272c460>"
      ]
     },
     "execution_count": 18,
     "metadata": {},
     "output_type": "execute_result"
    }
   ],
   "source": [
    "my_model.fit(x=numpy.expand_dims(image, axis=0), y=cat, epochs=15, steps_per_epoch=1, verbose=2)"
   ]
  },
  {
   "cell_type": "code",
   "execution_count": 19,
   "id": "4510fb06",
   "metadata": {
    "scrolled": true
   },
   "outputs": [
    {
     "name": "stdout",
     "output_type": "stream",
     "text": [
      "1/1 [==============================] - 1s 949ms/step\n"
     ]
    }
   ],
   "source": [
    "predicted = my_model.predict(numpy.expand_dims(image, axis=0))\n",
    "predictions = np.squeeze(predicted)\n",
    "predictions = np.argmax(predictions, axis=2)"
   ]
  },
  {
   "cell_type": "code",
   "execution_count": 20,
   "id": "45a5b3d2",
   "metadata": {},
   "outputs": [],
   "source": [
    "colormap = {idx+1: color for idx, color in enumerate(class_colors_mapping_rgb.values())}\n",
    "colormap[0]= (255,255,255)"
   ]
  },
  {
   "cell_type": "code",
   "execution_count": 21,
   "id": "6916021b",
   "metadata": {},
   "outputs": [],
   "source": [
    "def masks_to_image(predicted_masks, num_classes, colormap):\n",
    "    r = np.zeros_like(predicted_masks).astype(np.uint8)\n",
    "    g = np.zeros_like(predicted_masks).astype(np.uint8)\n",
    "    b = np.zeros_like(predicted_masks).astype(np.uint8)\n",
    "    for l in range(0, num_classes):\n",
    "        idx = mask == l\n",
    "        r[idx] = colormap[l][0]\n",
    "        g[idx] = colormap[l][1]\n",
    "        b[idx] = colormap[l][2]\n",
    "    rgb = np.stack([r, g, b], axis=2)\n",
    "    return rgb"
   ]
  },
  {
   "cell_type": "code",
   "execution_count": 22,
   "id": "f5694642",
   "metadata": {
    "scrolled": true
   },
   "outputs": [
    {
     "data": {
      "image/png": "[encoded data removed]",
      "text/plain": [
       "<IPython.core.display.Image object>"
      ]
     },
     "metadata": {},
     "output_type": "display_data"
    }
   ],
   "source": [
    "predicted_image = masks_to_image(predictions, num_classes, colormap)\n",
    "imshow(predicted_image)"
   ]
  },
  {
   "cell_type": "code",
   "execution_count": 23,
   "id": "a1874638",
   "metadata": {},
   "outputs": [
    {
     "data": {
      "text/plain": [
       "(151, 240)"
      ]
     },
     "execution_count": 23,
     "metadata": {},
     "output_type": "execute_result"
    }
   ],
   "source": [
    "predictions.shape"
   ]
  },
  {
   "cell_type": "code",
   "execution_count": null,
   "id": "62d02578",
   "metadata": {},
   "outputs": [],
   "source": []
  }
 ],
 "metadata": {
  "kernelspec": {
   "display_name": "mlpy39",
   "language": "python",
   "name": "mlpy39"
  },
  "language_info": {
   "codemirror_mode": {
    "name": "ipython",
    "version": 3
   },
   "file_extension": ".py",
   "mimetype": "text/x-python",
   "name": "python",
   "nbconvert_exporter": "python",
   "pygments_lexer": "ipython3",
   "version": "3.9.13"
  }
 },
 "nbformat": 4,
 "nbformat_minor": 5
}
